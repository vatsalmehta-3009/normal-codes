{
 "cells": [
  {
   "cell_type": "code",
   "execution_count": 42,
   "id": "91c942c5",
   "metadata": {},
   "outputs": [],
   "source": [
    "class Person:\n",
    "    species = 'Homo sapiens'\n",
    "    def __init__(self,name):\n",
    "        self.name = name\n",
    "    def __str__(self): # special method\n",
    "         \"\"\"This method is run when Python tries\n",
    "         to cast the object to a string. Return\n",
    "         this string when using print(), etc.\n",
    "         \"\"\"\n",
    "         return self.name\n",
    "    def rename(self,name):\n",
    "        self.name = name\n",
    "        return 'my new name is ' + self.name"
   ]
  },
  {
   "cell_type": "code",
   "execution_count": 49,
   "id": "8c5b3752",
   "metadata": {},
   "outputs": [],
   "source": [
    "# creating object of a class\n",
    "vatsal = Person('vatsal')"
   ]
  },
  {
   "cell_type": "code",
   "execution_count": 50,
   "id": "8f18bd56",
   "metadata": {},
   "outputs": [
    {
     "data": {
      "text/plain": [
       "<function __main__.A.f(self, x)>"
      ]
     },
     "execution_count": 50,
     "metadata": {},
     "output_type": "execute_result"
    }
   ],
   "source": [
    "class A(object):\n",
    "     def f(self, x):\n",
    "         return 2 * x\n",
    "A.f"
   ]
  },
  {
   "cell_type": "code",
   "execution_count": 54,
   "id": "8ae1a0e3",
   "metadata": {},
   "outputs": [
    {
     "data": {
      "text/plain": [
       "4"
      ]
     },
     "execution_count": 54,
     "metadata": {},
     "output_type": "execute_result"
    }
   ],
   "source": [
    "A.f(2,x = 2)"
   ]
  },
  {
   "cell_type": "code",
   "execution_count": 55,
   "id": "1d5fe167",
   "metadata": {},
   "outputs": [
    {
     "data": {
      "text/plain": [
       "4"
      ]
     },
     "execution_count": 55,
     "metadata": {},
     "output_type": "execute_result"
    }
   ],
   "source": [
    "a = A()\n",
    "a.f(2)"
   ]
  },
  {
   "cell_type": "code",
   "execution_count": 57,
   "id": "09bdd840",
   "metadata": {},
   "outputs": [
    {
     "data": {
      "text/plain": [
       "4"
      ]
     },
     "execution_count": 57,
     "metadata": {},
     "output_type": "execute_result"
    }
   ],
   "source": [
    "A.f(a,2)"
   ]
  },
  {
   "cell_type": "code",
   "execution_count": 59,
   "id": "01777893",
   "metadata": {},
   "outputs": [
    {
     "data": {
      "text/plain": [
       "'a'"
      ]
     },
     "execution_count": 59,
     "metadata": {},
     "output_type": "execute_result"
    }
   ],
   "source": [
    "ls = ['a']\n",
    "','.join(ls)"
   ]
  },
  {
   "cell_type": "code",
   "execution_count": null,
   "id": "a3e47465",
   "metadata": {},
   "outputs": [],
   "source": []
  }
 ],
 "metadata": {
  "kernelspec": {
   "display_name": "Python 3 (ipykernel)",
   "language": "python",
   "name": "python3"
  },
  "language_info": {
   "codemirror_mode": {
    "name": "ipython",
    "version": 3
   },
   "file_extension": ".py",
   "mimetype": "text/x-python",
   "name": "python",
   "nbconvert_exporter": "python",
   "pygments_lexer": "ipython3",
   "version": "3.8.8"
  }
 },
 "nbformat": 4,
 "nbformat_minor": 5
}
