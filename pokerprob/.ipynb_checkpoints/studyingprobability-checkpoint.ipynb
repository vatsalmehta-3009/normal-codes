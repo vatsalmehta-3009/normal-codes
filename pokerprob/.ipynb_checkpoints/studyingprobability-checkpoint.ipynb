{
 "cells": [
  {
   "cell_type": "code",
   "execution_count": 1,
   "id": "c9c4815b",
   "metadata": {},
   "outputs": [],
   "source": [
    "def Generate_Hands(num_hands = 3):    \n",
    "    \"\"\" generate a set of 5-card hands ['CJ','SJ','D3','DK','H9']\"\"\"\n",
    "    for i in range (num_hands):\n",
    "        hand = sample(Full_Deck, 5)  # generate random hand\n",
    "        yield (hand)\n",
    "        \n",
    "def check(hand):\n",
    "    groups  = defaultdict(int)\n",
    "    for card in hand:    \n",
    "        groups[card[1:]] += 1\n",
    "    \n",
    "    if len(groups) == 2:\n",
    "        if max(groups.values()) == 4 :  # four-of-akind\n",
    "            return (1,0)\n",
    "        else:   \n",
    "            return (0,1)    # max=3 and min=2 -> full house\n",
    "    return (0,0)   # all other cases\n",
    "    \n",
    "def main():\n",
    "    print (Full_Deck)\n",
    "    \n",
    "    four_kind = 0\n",
    "    full_house =0\n",
    "    iterations = 300_000\n",
    "    \n",
    "    for hand in Generate_Hands(iterations):\n",
    "        four, full = check (hand)\n",
    "        four_kind += four\n",
    "        full_house += full\n",
    "    \n",
    "    print (\"Probability four of a kind:\", four_kind/iterations)  \n",
    "    print (\"Probability full house:\", full_house/iterations)"
   ]
  },
  {
   "cell_type": "code",
   "execution_count": 2,
   "id": "bd5a639d",
   "metadata": {},
   "outputs": [
    {
     "name": "stdout",
     "output_type": "stream",
     "text": [
      "['SK', 'SQ', 'SJ', 'S1', 'S2', 'S3', 'S4', 'S5', 'S6', 'S7', 'S8', 'S9', 'S10', 'CK', 'CQ', 'CJ', 'C1', 'C2', 'C3', 'C4', 'C5', 'C6', 'C7', 'C8', 'C9', 'C10', 'HK', 'HQ', 'HJ', 'H1', 'H2', 'H3', 'H4', 'H5', 'H6', 'H7', 'H8', 'H9', 'H10', 'DK', 'DQ', 'DJ', 'D1', 'D2', 'D3', 'D4', 'D5', 'D6', 'D7', 'D8', 'D9', 'D10']\n",
      "Probability four of a kind: 0.0003\n",
      "Probability full house: 0.0014733333333333334\n"
     ]
    }
   ],
   "source": [
    "from random import sample\n",
    "from collections import defaultdict \n",
    "\n",
    "NAMES = ['Spade','Club', 'Heart', 'Diamond']\n",
    "names = ['S','C','H','D']\n",
    "ranks = ['K','Q','J', '1','2','3','4','5','6','7','8','9','10']\n",
    "Full_Deck = [ k+c for k in names for c in ranks] \n",
    " \n",
    "\n",
    "    \n",
    "    \n",
    "if __name__ == \"__main__\":\n",
    "    main()\n",
    "     "
   ]
  },
  {
   "cell_type": "code",
   "execution_count": null,
   "id": "e42bf089",
   "metadata": {},
   "outputs": [],
   "source": []
  }
 ],
 "metadata": {
  "kernelspec": {
   "display_name": "Python 3 (ipykernel)",
   "language": "python",
   "name": "python3"
  },
  "language_info": {
   "codemirror_mode": {
    "name": "ipython",
    "version": 3
   },
   "file_extension": ".py",
   "mimetype": "text/x-python",
   "name": "python",
   "nbconvert_exporter": "python",
   "pygments_lexer": "ipython3",
   "version": "3.8.8"
  }
 },
 "nbformat": 4,
 "nbformat_minor": 5
}
