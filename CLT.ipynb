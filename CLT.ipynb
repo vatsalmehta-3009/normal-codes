{
 "cells": [
  {
   "cell_type": "code",
   "execution_count": 3,
   "id": "392537e8",
   "metadata": {},
   "outputs": [],
   "source": [
    "import random\n",
    "import numpy as np\n",
    "import matplotlib.pyplot as plt\n",
    "import scipy.special as sps\n",
    "import seaborn as sns"
   ]
  },
  {
   "cell_type": "code",
   "execution_count": 4,
   "id": "b522922d",
   "metadata": {
    "scrolled": false
   },
   "outputs": [
    {
     "data": {
      "image/png": "[encoded data removed]",
      "text/plain": [
       "<Figure size 432x288 with 1 Axes>"
      ]
     },
     "metadata": {
      "needs_background": "light"
     },
     "output_type": "display_data"
    }
   ],
   "source": [
    "shape, scale = 2., 10\n",
    "popsize = 10000000\n",
    "s = np.random.exponential(scale = scale,size=popsize)\n",
    "plt.hist(s)\n",
    "plt.show()"
   ]
  },
  {
   "cell_type": "code",
   "execution_count": 300,
   "id": "d36666dd",
   "metadata": {},
   "outputs": [],
   "source": [
    "#plotting means of samples"
   ]
  },
  {
   "cell_type": "code",
   "execution_count": 5,
   "id": "efa93393",
   "metadata": {},
   "outputs": [
    {
     "data": {
      "text/plain": [
       "9.999482539255242"
      ]
     },
     "execution_count": 5,
     "metadata": {},
     "output_type": "execute_result"
    }
   ],
   "source": [
    "s.mean()"
   ]
  },
  {
   "cell_type": "code",
   "execution_count": 6,
   "id": "1ef384b1",
   "metadata": {},
   "outputs": [
    {
     "name": "stdout",
     "output_type": "stream",
     "text": [
      "1\n",
      "51\n",
      "101\n"
     ]
    }
   ],
   "source": [
    "d = {}\n",
    "for j in range(1,102,50):\n",
    "    ls=[]\n",
    "    print(j)\n",
    "    for i in range(100): \n",
    "        samplesize = j\n",
    "        \n",
    "        samplecount = 10000//j\n",
    "        samples = [np.mean(random.choices(s, k=samplesize)) for _ in range(samplecount)] \n",
    "        #plt.show()\n",
    "        ls.append(sum(samples)/len(samples))\n",
    "    d[j] = np.array(ls)\n",
    "\n",
    "#     sns.distplot(samples)\n",
    "#     plt.show()\n",
    "#     print('We took, ',samplecount,' samples with size of each sample: ',samplesize,' for population size as: ',popsize)\n",
    "#     print('Which is ',(samplesize*samplecount*100)/popsize,'% of population size. ' )\n",
    "    #ss_1000_means.append(sum(samples)/len(samples))"
   ]
  },
  {
   "cell_type": "code",
   "execution_count": 7,
   "id": "50f3d3fc",
   "metadata": {
    "scrolled": true
   },
   "outputs": [
    {
     "name": "stdout",
     "output_type": "stream",
     "text": [
      "0.09401318142463896 1\n",
      "0.11768641061873857 51\n",
      "0.08889880246978102 101\n"
     ]
    }
   ],
   "source": [
    "for i in d.keys():\n",
    "    print(d[i].std(),i)"
   ]
  },
  {
   "cell_type": "code",
   "execution_count": 276,
   "id": "d049fb15",
   "metadata": {},
   "outputs": [],
   "source": [
    "ss_1000_means = np.array(ss_1000_means)"
   ]
  },
  {
   "cell_type": "code",
   "execution_count": null,
   "id": "a10c6942",
   "metadata": {},
   "outputs": [],
   "source": [
    "# BEnefits we get after we know the distribution is normal?\n",
    "#1. we convert to Std Normal and mu=0, SD=1\n",
    "#2. \n",
    "\n",
    "#taking list of means when, sample size = 1, and sample count = 10000\n",
    "#taking list of means when, sample size = 10, and sample count = 10000"
   ]
  },
  {
   "cell_type": "code",
   "execution_count": null,
   "id": "fd10235e",
   "metadata": {},
   "outputs": [],
   "source": []
  }
 ],
 "metadata": {
  "kernelspec": {
   "display_name": "Python 3 (ipykernel)",
   "language": "python",
   "name": "python3"
  },
  "language_info": {
   "codemirror_mode": {
    "name": "ipython",
    "version": 3
   },
   "file_extension": ".py",
   "mimetype": "text/x-python",
   "name": "python",
   "nbconvert_exporter": "python",
   "pygments_lexer": "ipython3",
   "version": "3.8.8"
  }
 },
 "nbformat": 4,
 "nbformat_minor": 5
}
