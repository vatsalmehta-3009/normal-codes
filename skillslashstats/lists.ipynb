{
 "cells": [
  {
   "cell_type": "code",
   "execution_count": 17,
   "id": "5a958598",
   "metadata": {},
   "outputs": [],
   "source": [
    "ls1 = [1,2,3]\n",
    "ls2 = [4,5,6]"
   ]
  },
  {
   "cell_type": "code",
   "execution_count": 18,
   "id": "fb9727d4",
   "metadata": {
    "scrolled": true
   },
   "outputs": [
    {
     "data": {
      "text/plain": [
       "[1, 2, 3, 4, 5, 6]"
      ]
     },
     "execution_count": 18,
     "metadata": {},
     "output_type": "execute_result"
    }
   ],
   "source": [
    "ls1+ls2"
   ]
  },
  {
   "cell_type": "code",
   "execution_count": 19,
   "id": "7764712b",
   "metadata": {
    "scrolled": true
   },
   "outputs": [
    {
     "data": {
      "text/plain": [
       "[1, 2, 3, 1, 2, 3]"
      ]
     },
     "execution_count": 19,
     "metadata": {},
     "output_type": "execute_result"
    }
   ],
   "source": [
    "ls1*2"
   ]
  },
  {
   "cell_type": "code",
   "execution_count": 20,
   "id": "0c6ae2d4",
   "metadata": {},
   "outputs": [],
   "source": [
    "ls1 += 'abc'"
   ]
  },
  {
   "cell_type": "code",
   "execution_count": 21,
   "id": "f0508bbe",
   "metadata": {},
   "outputs": [
    {
     "data": {
      "text/plain": [
       "[1, 2, 3, 'a', 'b', 'c']"
      ]
     },
     "execution_count": 21,
     "metadata": {},
     "output_type": "execute_result"
    }
   ],
   "source": [
    "ls1"
   ]
  },
  {
   "cell_type": "code",
   "execution_count": 22,
   "id": "86188a72",
   "metadata": {},
   "outputs": [],
   "source": [
    "ls1[0:2] = 0,1,2,3"
   ]
  },
  {
   "cell_type": "code",
   "execution_count": 23,
   "id": "21a70cd3",
   "metadata": {},
   "outputs": [
    {
     "data": {
      "text/plain": [
       "[0, 1, 2, 3, 3, 'a', 'b', 'c']"
      ]
     },
     "execution_count": 23,
     "metadata": {},
     "output_type": "execute_result"
    }
   ],
   "source": [
    "ls1"
   ]
  },
  {
   "cell_type": "code",
   "execution_count": 24,
   "id": "32a43c4b",
   "metadata": {},
   "outputs": [
    {
     "name": "stdout",
     "output_type": "stream",
     "text": [
      "['orange', 'kiwi', 'melon']\n"
     ]
    }
   ],
   "source": [
    "thislist = [\"apple\", \"banana\", \"cherry\", \"orange\", \"kiwi\", \"melon\", \"mango\"]\n",
    "print(thislist[-4:-1])"
   ]
  },
  {
   "cell_type": "code",
   "execution_count": null,
   "id": "1bcb3f77",
   "metadata": {},
   "outputs": [],
   "source": [
    "# error\n",
    "# kiwi \n",
    "# orange and banana\n",
    "# orange and mango\n",
    "# melon\n",
    "# mango melon and kiwi\n",
    "# orange kiwi melonapp"
   ]
  },
  {
   "cell_type": "code",
   "execution_count": 29,
   "id": "937f97e5",
   "metadata": {},
   "outputs": [
    {
     "name": "stdout",
     "output_type": "stream",
     "text": [
      "Yes,  0  is in the fruits list\n"
     ]
    }
   ],
   "source": [
    "apple = 0\n",
    "thislist = [\"apple\", \"banana\", \"cherry\"]\n",
    "if \"apple\" in thislist:\n",
    "  print(\"Yes, \",apple,\" is in the fruits list\")"
   ]
  },
  {
   "cell_type": "code",
   "execution_count": null,
   "id": "1c520d01",
   "metadata": {},
   "outputs": [],
   "source": [
    "# error\n",
    "# "
   ]
  },
  {
   "cell_type": "code",
   "execution_count": 30,
   "id": "f39dbd88",
   "metadata": {},
   "outputs": [
    {
     "name": "stdout",
     "output_type": "stream",
     "text": [
      "['apple', 'blackcurrant', 'watermelon', 'cherry']\n"
     ]
    }
   ],
   "source": [
    "thislist = [\"apple\", \"banana\", \"cherry\"]\n",
    "thislist[1:2] = [\"blackcurrant\", \"watermelon\"]\n",
    "print(thislist)"
   ]
  },
  {
   "cell_type": "code",
   "execution_count": null,
   "id": "f3e05a6d",
   "metadata": {},
   "outputs": [],
   "source": [
    "# apple back currant watermelon cherry ."
   ]
  },
  {
   "cell_type": "code",
   "execution_count": 31,
   "id": "a497851c",
   "metadata": {},
   "outputs": [
    {
     "name": "stdout",
     "output_type": "stream",
     "text": [
      "['apple', 'watermelon']\n"
     ]
    }
   ],
   "source": [
    "thislist = [\"apple\", \"banana\", \"cherry\"]\n",
    "thislist[1:3] = [\"watermelon\"]\n",
    "print(thislist)"
   ]
  },
  {
   "cell_type": "code",
   "execution_count": null,
   "id": "73a05297",
   "metadata": {},
   "outputs": [],
   "source": [
    "# a w\n",
    "# error"
   ]
  },
  {
   "cell_type": "code",
   "execution_count": 44,
   "id": "1ffad02c",
   "metadata": {},
   "outputs": [
    {
     "name": "stdout",
     "output_type": "stream",
     "text": [
      "['apple', 'banana', [1, 2, 3], 'cherry']\n"
     ]
    }
   ],
   "source": [
    "thislist = [\"apple\", \"banana\", \"cherry\"]\n",
    "thislist.insert(2, [1,2,3])\n",
    "print(thislist)"
   ]
  },
  {
   "cell_type": "code",
   "execution_count": 33,
   "id": "30df950e",
   "metadata": {},
   "outputs": [
    {
     "data": {
      "text/plain": [
       "['apple', 'banana', 'a', 'cherry']"
      ]
     },
     "execution_count": 33,
     "metadata": {},
     "output_type": "execute_result"
    }
   ],
   "source": [
    "thislist[2] = 'a'\n",
    "thislist"
   ]
  },
  {
   "cell_type": "code",
   "execution_count": null,
   "id": "1aaa954b",
   "metadata": {},
   "outputs": [],
   "source": [
    "# 2nd index pe watermelon. cherrywatermelon\n",
    "# a b w c\n",
    "# a b w\n"
   ]
  },
  {
   "cell_type": "code",
   "execution_count": 43,
   "id": "04ce2886",
   "metadata": {},
   "outputs": [
    {
     "name": "stdout",
     "output_type": "stream",
     "text": [
      "['apple', 'banana', 'cherry', [1, 2, 3]]\n"
     ]
    }
   ],
   "source": [
    "thislist = [\"apple\", \"banana\", \"cherry\"]\n",
    "thislist.append([1,2,3])\n",
    "print(thislist)\n"
   ]
  },
  {
   "cell_type": "code",
   "execution_count": null,
   "id": "4a977364",
   "metadata": {},
   "outputs": [],
   "source": [
    "# a b c o "
   ]
  },
  {
   "cell_type": "code",
   "execution_count": 46,
   "id": "1eee7389",
   "metadata": {},
   "outputs": [],
   "source": [
    "cellphoneusage = []"
   ]
  },
  {
   "cell_type": "code",
   "execution_count": 51,
   "id": "47f5b3e4",
   "metadata": {},
   "outputs": [
    {
     "name": "stdout",
     "output_type": "stream",
     "text": [
      "how much did you use your phone today?45\n"
     ]
    }
   ],
   "source": [
    "x = int(input('how much did you use your phone today?'))\n",
    "cellphoneusage.append(x)"
   ]
  },
  {
   "cell_type": "code",
   "execution_count": 52,
   "id": "73cfd4fb",
   "metadata": {},
   "outputs": [
    {
     "data": {
      "text/plain": [
       "[30, 34, 45]"
      ]
     },
     "execution_count": 52,
     "metadata": {},
     "output_type": "execute_result"
    }
   ],
   "source": [
    "cellphoneusage"
   ]
  },
  {
   "cell_type": "code",
   "execution_count": null,
   "id": "ac0980ca",
   "metadata": {},
   "outputs": [],
   "source": []
  },
  {
   "cell_type": "code",
   "execution_count": null,
   "id": "a87b90c5",
   "metadata": {},
   "outputs": [],
   "source": []
  },
  {
   "cell_type": "code",
   "execution_count": 54,
   "id": "e87d8f9a",
   "metadata": {},
   "outputs": [],
   "source": [
    "import random\n",
    "import numpy as np\n",
    "import matplotlib.pyplot as plt\n",
    "import math"
   ]
  },
  {
   "cell_type": "code",
   "execution_count": 55,
   "id": "fd468c77",
   "metadata": {},
   "outputs": [],
   "source": [
    "x = np.linspace(-50,-50,200)\n",
    "e = 2.7182818284\n",
    "\n",
    "y = 1/(1+e**(-x)) # LOGISTIC FUNCTION(LOGIT FUNCTION)-> SUB CATEGORY OF SIGMOID FUNCTION\n",
    "z = x/(1+abs(x)) \n",
    "#w = x/(1+x**2)**0.5 "
   ]
  },
  {
   "cell_type": "code",
   "execution_count": 57,
   "id": "d9907d1f",
   "metadata": {},
   "outputs": [
    {
     "data": {
      "text/plain": [
       "[<matplotlib.lines.Line2D at 0x7f208867ca00>]"
      ]
     },
     "execution_count": 57,
     "metadata": {},
     "output_type": "execute_result"
    },
    {
     "data": {
      "image/png": "[encoded data removed]",
      "text/plain": [
       "<Figure size 432x288 with 1 Axes>"
      ]
     },
     "metadata": {
      "needs_background": "light"
     },
     "output_type": "display_data"
    }
   ],
   "source": [
    "plt.plot(x,y)\n",
    "plt.plot(x,z)\n",
    "#plt.plot(x,w)"
   ]
  },
  {
   "cell_type": "code",
   "execution_count": null,
   "id": "7e1ba485",
   "metadata": {},
   "outputs": [],
   "source": []
  }
 ],
 "metadata": {
  "kernelspec": {
   "display_name": "Python 3 (ipykernel)",
   "language": "python",
   "name": "python3"
  },
  "language_info": {
   "codemirror_mode": {
    "name": "ipython",
    "version": 3
   },
   "file_extension": ".py",
   "mimetype": "text/x-python",
   "name": "python",
   "nbconvert_exporter": "python",
   "pygments_lexer": "ipython3",
   "version": "3.8.8"
  }
 },
 "nbformat": 4,
 "nbformat_minor": 5
}
