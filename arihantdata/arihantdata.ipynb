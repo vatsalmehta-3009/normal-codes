{
 "cells": [
  {
   "cell_type": "code",
   "execution_count": 1,
   "id": "489cdcab",
   "metadata": {},
   "outputs": [],
   "source": [
    "import pandas as pd\n",
    "import numpy as np"
   ]
  },
  {
   "cell_type": "code",
   "execution_count": 5,
   "id": "f1893842",
   "metadata": {},
   "outputs": [],
   "source": [
    "f = open(r'arihantdata.txt','r')\n",
    "data = f.read()\n",
    "f.close()"
   ]
  },
  {
   "cell_type": "code",
   "execution_count": 6,
   "id": "1c965404",
   "metadata": {},
   "outputs": [],
   "source": [
    "ls = []\n",
    "for i in data:\n",
    "    ls.append(i.split('-'))"
   ]
  },
  {
   "cell_type": "code",
   "execution_count": 21,
   "id": "d2297c49",
   "metadata": {},
   "outputs": [],
   "source": [
    "# an algorithm to control the class.\n",
    "# Pin Drop Silence!\n",
    "# Let them know, when they need to be obedient, exactly at which point. \n",
    "# Ignore the conversation until you find the best response to the conversation. \n",
    "# \n",
    "\n",
    "god_data = data.split('***')[0].split('\\n')[3:32]"
   ]
  },
  {
   "cell_type": "code",
   "execution_count": 27,
   "id": "bbfc56d3",
   "metadata": {},
   "outputs": [
    {
     "ename": "IndexError",
     "evalue": "list index out of range",
     "output_type": "error",
     "traceback": [
      "\u001b[0;31m---------------------------------------------------------------------------\u001b[0m",
      "\u001b[0;31mIndexError\u001b[0m                                Traceback (most recent call last)",
      "\u001b[0;32m/tmp/ipykernel_13060/4025870103.py\u001b[0m in \u001b[0;36m<module>\u001b[0;34m\u001b[0m\n\u001b[1;32m      1\u001b[0m \u001b[0;32mfor\u001b[0m \u001b[0mi\u001b[0m \u001b[0;32min\u001b[0m \u001b[0mrange\u001b[0m\u001b[0;34m(\u001b[0m\u001b[0mlen\u001b[0m\u001b[0;34m(\u001b[0m\u001b[0mgod_data\u001b[0m\u001b[0;34m)\u001b[0m\u001b[0;34m)\u001b[0m\u001b[0;34m:\u001b[0m\u001b[0;34m\u001b[0m\u001b[0;34m\u001b[0m\u001b[0m\n\u001b[0;32m----> 2\u001b[0;31m     \u001b[0;32mif\u001b[0m \u001b[0mlen\u001b[0m\u001b[0;34m(\u001b[0m\u001b[0mgod_data\u001b[0m\u001b[0;34m[\u001b[0m\u001b[0mi\u001b[0m\u001b[0;34m]\u001b[0m\u001b[0;34m)\u001b[0m \u001b[0;34m==\u001b[0m \u001b[0;36m0\u001b[0m\u001b[0;34m:\u001b[0m\u001b[0;34m\u001b[0m\u001b[0;34m\u001b[0m\u001b[0m\n\u001b[0m\u001b[1;32m      3\u001b[0m         \u001b[0;32mdel\u001b[0m \u001b[0mgod_data\u001b[0m\u001b[0;34m[\u001b[0m\u001b[0mi\u001b[0m\u001b[0;34m]\u001b[0m\u001b[0;34m\u001b[0m\u001b[0;34m\u001b[0m\u001b[0m\n",
      "\u001b[0;31mIndexError\u001b[0m: list index out of range"
     ]
    }
   ],
   "source": [
    "for i in range(len(god_data)):\n",
    "    if len(god_data[i]) == 0:\n",
    "        del god_data[i]"
   ]
  },
  {
   "cell_type": "code",
   "execution_count": 25,
   "id": "4a0511f7",
   "metadata": {},
   "outputs": [
    {
     "data": {
      "text/plain": [
       "['१) श्री ऋषभनाथ जी - नीलांजना की मृत्यु - 84 लाख पूर्व वर्ष- बैल - गोमुख देव/चक्रेश्वरी देवी',\n",
       " '२) श्री अजितनाथ जी - बिजली चमकने से- 72 लाख पूर्व वर्ष- हाथी- महायक्ष देव/रोहिणी देवी',\n",
       " '३) श्री सम्भवनाथ जी - मेघ देखने से - 60 लाख पूर्व वर्ष- अश्व (घोड़ा)- त्रिमुख देव/ प्रज्ञप्तिदेवी',\n",
       " '४) श्री अभिनन्दन नाथ जी - मेघों का विघटन- 50 लाख पूर्व वर्ष- बंदर - यक्षेश्वर देव/व्रजश्रृंखला देवी',\n",
       " '५) श्री सुमतिनाथ जी - जाति स्मरण- 40 लाख पूर्व वर्ष - चकवा - तुम्बरू देव/ पुरुषदत्ता देवी',\n",
       " '६) श्री पदमप्रभु नाथ जी - जाति स्मरण- 30 लाख पूर्व वर्ष- कमल - कुसुमदेव/ मनोवेगा देवी',\n",
       " '७) श्री सुपार्श्व नाथ जी - जाति स्मरण- 20 लाख पूर्व वर्ष - साथिया (स्वस्तिक) - वरनन्दि देव/काली देवी',\n",
       " '८) श्री चन्द्रप्रभु नाथ जी - दर्पण -10 लाख पूर्व वर्ष - चन्द्रमा - विजय देव/ज्वालामालिनी देवी',\n",
       " '९) श्री पुष्पदन्त नाथ जी - उल्कापात से - 2 लाख पूर्व वर्ष - मगर- अजित देव/महाकाली देवी',\n",
       " '१०) श्री शीतलनाथ जी - हिमनाश से - 1 लाख पूर्व वर्ष- कल्पवृक्ष - ब्रह्मेश्वर देव/मानवी देवी',\n",
       " '११) श्री श्रेयांसनाथ जी - पतझड़ से - 84 लाख वर्ष - गैंडा - कुमार देव/गौरी देवी',\n",
       " '१२) श्री वासुपूज्य नाथ जी - जाति स्मरण- 72 लाख वर्ष - भैंसा - षणमुखदेव/गांधारी देवी',\n",
       " '१३) श्री विमलनाथ जी - ओस विघटन-60 लाख वर्ष - शूकर - पाताल देव/ वैरोटी देवी',\n",
       " '१४) श्री अनन्तनाथ जी - उल्कापात से- 30 लाख वर्ष- सेही - किन्नर देव/अनंतमती देवी',\n",
       " '१५) श्री धर्मनाथ जी - उल्कापात से - 10 लाख वर्ष - वज्रदंड - किंपुरुष देव/मानसी देवी',\n",
       " '१६) श्री शांतिनाथ जी - जाति स्मरण (दर्पण) - 1 लाख वर्ष- मृग (हिरण) - गरुड़ देव/महामानसी देवी',\n",
       " '१७) श्री कुन्थुनाथ जी - जाति स्मरण- 95 हजार वर्ष - बकरा - गंधर्व देव/जया देवी',\n",
       " '१८) श्री अरहनाथ जी - मेघ फटने से - 84 हजार वर्ष - मछली - महेंद्र देव/विजया देवी',\n",
       " '१९) श्री मल्लिनाथ जी - ताड़ित- 55 हजार वर्ष - कलश - कुबेर देव/अपराजितादेवी',\n",
       " '२०) श्री मुनिसुव्रतनाथ जी - जाति स्मरण- 30 हजार वर्ष- कछुआ - वरुण देव /बहुरूपिणी देवी',\n",
       " '',\n",
       " '२१) श्री नमिनाथ जी - जाति स्मरण-10 हजार वर्ष - नीलकमल - विधुत्प्रभ देव/चामुण्डी देवी',\n",
       " '',\n",
       " '२२) श्री नेमिनाथ जी - पशुओं का क्रन्दन - 1 हजार वर्ष- शंख - सर्वाण्हदेव/कुषमाण्डी देवी',\n",
       " '',\n",
       " '२३) श्री पार्श्वनाथ जी - जाति स्मरण- 100 वर्ष - सर्प - धरणेन्द्र देव/पद्मावती देवी',\n",
       " '',\n",
       " '२४) श्री महावीर स्वामी जी - जाति स्मरण- 72 वर्ष - सिंह - मातंग देव/सिद्धायनी देवी',\n",
       " '']"
      ]
     },
     "execution_count": 25,
     "metadata": {},
     "output_type": "execute_result"
    }
   ],
   "source": [
    "god_data"
   ]
  },
  {
   "cell_type": "code",
   "execution_count": 7,
   "id": "e7d700d7",
   "metadata": {},
   "outputs": [
    {
     "ename": "ValueError",
     "evalue": "5 columns passed, passed data had 2 columns",
     "output_type": "error",
     "traceback": [
      "\u001b[0;31m---------------------------------------------------------------------------\u001b[0m",
      "\u001b[0;31mAssertionError\u001b[0m                            Traceback (most recent call last)",
      "\u001b[0;32m~/anaconda3/lib/python3.8/site-packages/pandas/core/internals/construction.py\u001b[0m in \u001b[0;36m_finalize_columns_and_data\u001b[0;34m(content, columns, dtype)\u001b[0m\n\u001b[1;32m    897\u001b[0m     \u001b[0;32mtry\u001b[0m\u001b[0;34m:\u001b[0m\u001b[0;34m\u001b[0m\u001b[0;34m\u001b[0m\u001b[0m\n\u001b[0;32m--> 898\u001b[0;31m         \u001b[0mcolumns\u001b[0m \u001b[0;34m=\u001b[0m \u001b[0m_validate_or_indexify_columns\u001b[0m\u001b[0;34m(\u001b[0m\u001b[0mcontents\u001b[0m\u001b[0;34m,\u001b[0m \u001b[0mcolumns\u001b[0m\u001b[0;34m)\u001b[0m\u001b[0;34m\u001b[0m\u001b[0;34m\u001b[0m\u001b[0m\n\u001b[0m\u001b[1;32m    899\u001b[0m     \u001b[0;32mexcept\u001b[0m \u001b[0mAssertionError\u001b[0m \u001b[0;32mas\u001b[0m \u001b[0merr\u001b[0m\u001b[0;34m:\u001b[0m\u001b[0;34m\u001b[0m\u001b[0;34m\u001b[0m\u001b[0m\n",
      "\u001b[0;32m~/anaconda3/lib/python3.8/site-packages/pandas/core/internals/construction.py\u001b[0m in \u001b[0;36m_validate_or_indexify_columns\u001b[0;34m(content, columns)\u001b[0m\n\u001b[1;32m    945\u001b[0m             \u001b[0;31m# caller's responsibility to check for this...\u001b[0m\u001b[0;34m\u001b[0m\u001b[0;34m\u001b[0m\u001b[0;34m\u001b[0m\u001b[0m\n\u001b[0;32m--> 946\u001b[0;31m             raise AssertionError(\n\u001b[0m\u001b[1;32m    947\u001b[0m                 \u001b[0;34mf\"{len(columns)} columns passed, passed data had \"\u001b[0m\u001b[0;34m\u001b[0m\u001b[0;34m\u001b[0m\u001b[0m\n",
      "\u001b[0;31mAssertionError\u001b[0m: 5 columns passed, passed data had 2 columns",
      "\nThe above exception was the direct cause of the following exception:\n",
      "\u001b[0;31mValueError\u001b[0m                                Traceback (most recent call last)",
      "\u001b[0;32m/tmp/ipykernel_13060/423097235.py\u001b[0m in \u001b[0;36m<module>\u001b[0;34m\u001b[0m\n\u001b[0;32m----> 1\u001b[0;31m \u001b[0mpd\u001b[0m\u001b[0;34m.\u001b[0m\u001b[0mDataFrame\u001b[0m\u001b[0;34m(\u001b[0m\u001b[0mls\u001b[0m\u001b[0;34m,\u001b[0m\u001b[0mcolumns\u001b[0m\u001b[0;34m=\u001b[0m\u001b[0;34m[\u001b[0m\u001b[0;34m'name'\u001b[0m\u001b[0;34m,\u001b[0m\u001b[0;34m'vairagya_reason'\u001b[0m\u001b[0;34m,\u001b[0m\u001b[0;34m'age'\u001b[0m\u001b[0;34m,\u001b[0m\u001b[0;34m'lanchan'\u001b[0m\u001b[0;34m,\u001b[0m\u001b[0;34m'dev/devi'\u001b[0m\u001b[0;34m]\u001b[0m\u001b[0;34m)\u001b[0m\u001b[0;34m\u001b[0m\u001b[0;34m\u001b[0m\u001b[0m\n\u001b[0m",
      "\u001b[0;32m~/anaconda3/lib/python3.8/site-packages/pandas/core/frame.py\u001b[0m in \u001b[0;36m__init__\u001b[0;34m(self, data, index, columns, dtype, copy)\u001b[0m\n\u001b[1;32m    692\u001b[0m                         \u001b[0;31m# ndarray], Index, Series], Sequence[Any]]\"\u001b[0m\u001b[0;34m\u001b[0m\u001b[0;34m\u001b[0m\u001b[0;34m\u001b[0m\u001b[0m\n\u001b[1;32m    693\u001b[0m                         \u001b[0mcolumns\u001b[0m \u001b[0;34m=\u001b[0m \u001b[0mensure_index\u001b[0m\u001b[0;34m(\u001b[0m\u001b[0mcolumns\u001b[0m\u001b[0;34m)\u001b[0m  \u001b[0;31m# type: ignore[arg-type]\u001b[0m\u001b[0;34m\u001b[0m\u001b[0;34m\u001b[0m\u001b[0m\n\u001b[0;32m--> 694\u001b[0;31m                     arrays, columns, index = nested_data_to_arrays(\n\u001b[0m\u001b[1;32m    695\u001b[0m                         \u001b[0;31m# error: Argument 3 to \"nested_data_to_arrays\" has incompatible\u001b[0m\u001b[0;34m\u001b[0m\u001b[0;34m\u001b[0m\u001b[0;34m\u001b[0m\u001b[0m\n\u001b[1;32m    696\u001b[0m                         \u001b[0;31m# type \"Optional[Collection[Any]]\"; expected \"Optional[Index]\"\u001b[0m\u001b[0;34m\u001b[0m\u001b[0;34m\u001b[0m\u001b[0;34m\u001b[0m\u001b[0m\n",
      "\u001b[0;32m~/anaconda3/lib/python3.8/site-packages/pandas/core/internals/construction.py\u001b[0m in \u001b[0;36mnested_data_to_arrays\u001b[0;34m(data, columns, index, dtype)\u001b[0m\n\u001b[1;32m    481\u001b[0m         \u001b[0mcolumns\u001b[0m \u001b[0;34m=\u001b[0m \u001b[0mensure_index\u001b[0m\u001b[0;34m(\u001b[0m\u001b[0mdata\u001b[0m\u001b[0;34m[\u001b[0m\u001b[0;36m0\u001b[0m\u001b[0;34m]\u001b[0m\u001b[0;34m.\u001b[0m\u001b[0m_fields\u001b[0m\u001b[0;34m)\u001b[0m\u001b[0;34m\u001b[0m\u001b[0;34m\u001b[0m\u001b[0m\n\u001b[1;32m    482\u001b[0m \u001b[0;34m\u001b[0m\u001b[0m\n\u001b[0;32m--> 483\u001b[0;31m     \u001b[0marrays\u001b[0m\u001b[0;34m,\u001b[0m \u001b[0mcolumns\u001b[0m \u001b[0;34m=\u001b[0m \u001b[0mto_arrays\u001b[0m\u001b[0;34m(\u001b[0m\u001b[0mdata\u001b[0m\u001b[0;34m,\u001b[0m \u001b[0mcolumns\u001b[0m\u001b[0;34m,\u001b[0m \u001b[0mdtype\u001b[0m\u001b[0;34m=\u001b[0m\u001b[0mdtype\u001b[0m\u001b[0;34m)\u001b[0m\u001b[0;34m\u001b[0m\u001b[0;34m\u001b[0m\u001b[0m\n\u001b[0m\u001b[1;32m    484\u001b[0m     \u001b[0mcolumns\u001b[0m \u001b[0;34m=\u001b[0m \u001b[0mensure_index\u001b[0m\u001b[0;34m(\u001b[0m\u001b[0mcolumns\u001b[0m\u001b[0;34m)\u001b[0m\u001b[0;34m\u001b[0m\u001b[0;34m\u001b[0m\u001b[0m\n\u001b[1;32m    485\u001b[0m \u001b[0;34m\u001b[0m\u001b[0m\n",
      "\u001b[0;32m~/anaconda3/lib/python3.8/site-packages/pandas/core/internals/construction.py\u001b[0m in \u001b[0;36mto_arrays\u001b[0;34m(data, columns, dtype)\u001b[0m\n\u001b[1;32m    797\u001b[0m         \u001b[0marr\u001b[0m \u001b[0;34m=\u001b[0m \u001b[0m_list_to_arrays\u001b[0m\u001b[0;34m(\u001b[0m\u001b[0mdata\u001b[0m\u001b[0;34m)\u001b[0m\u001b[0;34m\u001b[0m\u001b[0;34m\u001b[0m\u001b[0m\n\u001b[1;32m    798\u001b[0m \u001b[0;34m\u001b[0m\u001b[0m\n\u001b[0;32m--> 799\u001b[0;31m     \u001b[0mcontent\u001b[0m\u001b[0;34m,\u001b[0m \u001b[0mcolumns\u001b[0m \u001b[0;34m=\u001b[0m \u001b[0m_finalize_columns_and_data\u001b[0m\u001b[0;34m(\u001b[0m\u001b[0marr\u001b[0m\u001b[0;34m,\u001b[0m \u001b[0mcolumns\u001b[0m\u001b[0;34m,\u001b[0m \u001b[0mdtype\u001b[0m\u001b[0;34m)\u001b[0m\u001b[0;34m\u001b[0m\u001b[0;34m\u001b[0m\u001b[0m\n\u001b[0m\u001b[1;32m    800\u001b[0m     \u001b[0;32mreturn\u001b[0m \u001b[0mcontent\u001b[0m\u001b[0;34m,\u001b[0m \u001b[0mcolumns\u001b[0m\u001b[0;34m\u001b[0m\u001b[0;34m\u001b[0m\u001b[0m\n\u001b[1;32m    801\u001b[0m \u001b[0;34m\u001b[0m\u001b[0m\n",
      "\u001b[0;32m~/anaconda3/lib/python3.8/site-packages/pandas/core/internals/construction.py\u001b[0m in \u001b[0;36m_finalize_columns_and_data\u001b[0;34m(content, columns, dtype)\u001b[0m\n\u001b[1;32m    899\u001b[0m     \u001b[0;32mexcept\u001b[0m \u001b[0mAssertionError\u001b[0m \u001b[0;32mas\u001b[0m \u001b[0merr\u001b[0m\u001b[0;34m:\u001b[0m\u001b[0;34m\u001b[0m\u001b[0;34m\u001b[0m\u001b[0m\n\u001b[1;32m    900\u001b[0m         \u001b[0;31m# GH#26429 do not raise user-facing AssertionError\u001b[0m\u001b[0;34m\u001b[0m\u001b[0;34m\u001b[0m\u001b[0;34m\u001b[0m\u001b[0m\n\u001b[0;32m--> 901\u001b[0;31m         \u001b[0;32mraise\u001b[0m \u001b[0mValueError\u001b[0m\u001b[0;34m(\u001b[0m\u001b[0merr\u001b[0m\u001b[0;34m)\u001b[0m \u001b[0;32mfrom\u001b[0m \u001b[0merr\u001b[0m\u001b[0;34m\u001b[0m\u001b[0;34m\u001b[0m\u001b[0m\n\u001b[0m\u001b[1;32m    902\u001b[0m \u001b[0;34m\u001b[0m\u001b[0m\n\u001b[1;32m    903\u001b[0m     \u001b[0;32mif\u001b[0m \u001b[0mlen\u001b[0m\u001b[0;34m(\u001b[0m\u001b[0mcontents\u001b[0m\u001b[0;34m)\u001b[0m \u001b[0;32mand\u001b[0m \u001b[0mcontents\u001b[0m\u001b[0;34m[\u001b[0m\u001b[0;36m0\u001b[0m\u001b[0;34m]\u001b[0m\u001b[0;34m.\u001b[0m\u001b[0mdtype\u001b[0m \u001b[0;34m==\u001b[0m \u001b[0mnp\u001b[0m\u001b[0;34m.\u001b[0m\u001b[0mobject_\u001b[0m\u001b[0;34m:\u001b[0m\u001b[0;34m\u001b[0m\u001b[0;34m\u001b[0m\u001b[0m\n",
      "\u001b[0;31mValueError\u001b[0m: 5 columns passed, passed data had 2 columns"
     ]
    }
   ],
   "source": [
    "pd.DataFrame(ls,columns=['name','vairagya_reason','age','lanchan','dev/devi'])"
   ]
  },
  {
   "cell_type": "code",
   "execution_count": 13,
   "id": "cf870d4b",
   "metadata": {},
   "outputs": [
    {
     "data": {
      "text/plain": [
       "['१) श्री ऋषभनाथ जी ',\n",
       " ' नीलांजना की मृत्यु ',\n",
       " ' 84 लाख पूर्व वर्ष',\n",
       " ' बैल ',\n",
       " ' गोमुख देव/चक्रेश्वरी देवी\\n']"
      ]
     },
     "execution_count": 13,
     "metadata": {},
     "output_type": "execute_result"
    }
   ],
   "source": [
    "ls = np.array(ls)\n"
   ]
  },
  {
   "cell_type": "code",
   "execution_count": 14,
   "id": "30825d2c",
   "metadata": {},
   "outputs": [
    {
     "ename": "ValueError",
     "evalue": "Shape of passed values is (28, 1), indices imply (28, 5)",
     "output_type": "error",
     "traceback": [
      "\u001b[0;31m---------------------------------------------------------------------------\u001b[0m",
      "\u001b[0;31mValueError\u001b[0m                                Traceback (most recent call last)",
      "\u001b[0;32m/tmp/ipykernel_39460/2424755916.py\u001b[0m in \u001b[0;36m<module>\u001b[0;34m\u001b[0m\n\u001b[0;32m----> 1\u001b[0;31m \u001b[0mpd\u001b[0m\u001b[0;34m.\u001b[0m\u001b[0mDataFrame\u001b[0m\u001b[0;34m(\u001b[0m\u001b[0mls\u001b[0m\u001b[0;34m.\u001b[0m\u001b[0mT\u001b[0m\u001b[0;34m,\u001b[0m\u001b[0mcolumns\u001b[0m \u001b[0;34m=\u001b[0m \u001b[0;34m[\u001b[0m\u001b[0;34m'name'\u001b[0m\u001b[0;34m,\u001b[0m\u001b[0;34m'b'\u001b[0m\u001b[0;34m,\u001b[0m\u001b[0;34m'c'\u001b[0m\u001b[0;34m,\u001b[0m\u001b[0;34m'd'\u001b[0m\u001b[0;34m,\u001b[0m\u001b[0;34m'e'\u001b[0m\u001b[0;34m]\u001b[0m\u001b[0;34m)\u001b[0m\u001b[0;34m\u001b[0m\u001b[0;34m\u001b[0m\u001b[0m\n\u001b[0m",
      "\u001b[0;32m~/anaconda3/lib/python3.8/site-packages/pandas/core/frame.py\u001b[0m in \u001b[0;36m__init__\u001b[0;34m(self, data, index, columns, dtype, copy)\u001b[0m\n\u001b[1;32m    670\u001b[0m                 )\n\u001b[1;32m    671\u001b[0m             \u001b[0;32melse\u001b[0m\u001b[0;34m:\u001b[0m\u001b[0;34m\u001b[0m\u001b[0;34m\u001b[0m\u001b[0m\n\u001b[0;32m--> 672\u001b[0;31m                 mgr = ndarray_to_mgr(\n\u001b[0m\u001b[1;32m    673\u001b[0m                     \u001b[0mdata\u001b[0m\u001b[0;34m,\u001b[0m\u001b[0;34m\u001b[0m\u001b[0;34m\u001b[0m\u001b[0m\n\u001b[1;32m    674\u001b[0m                     \u001b[0mindex\u001b[0m\u001b[0;34m,\u001b[0m\u001b[0;34m\u001b[0m\u001b[0;34m\u001b[0m\u001b[0m\n",
      "\u001b[0;32m~/anaconda3/lib/python3.8/site-packages/pandas/core/internals/construction.py\u001b[0m in \u001b[0;36mndarray_to_mgr\u001b[0;34m(values, index, columns, dtype, copy, typ)\u001b[0m\n\u001b[1;32m    322\u001b[0m     )\n\u001b[1;32m    323\u001b[0m \u001b[0;34m\u001b[0m\u001b[0m\n\u001b[0;32m--> 324\u001b[0;31m     \u001b[0m_check_values_indices_shape_match\u001b[0m\u001b[0;34m(\u001b[0m\u001b[0mvalues\u001b[0m\u001b[0;34m,\u001b[0m \u001b[0mindex\u001b[0m\u001b[0;34m,\u001b[0m \u001b[0mcolumns\u001b[0m\u001b[0;34m)\u001b[0m\u001b[0;34m\u001b[0m\u001b[0;34m\u001b[0m\u001b[0m\n\u001b[0m\u001b[1;32m    325\u001b[0m \u001b[0;34m\u001b[0m\u001b[0m\n\u001b[1;32m    326\u001b[0m     \u001b[0;32mif\u001b[0m \u001b[0mtyp\u001b[0m \u001b[0;34m==\u001b[0m \u001b[0;34m\"array\"\u001b[0m\u001b[0;34m:\u001b[0m\u001b[0;34m\u001b[0m\u001b[0;34m\u001b[0m\u001b[0m\n",
      "\u001b[0;32m~/anaconda3/lib/python3.8/site-packages/pandas/core/internals/construction.py\u001b[0m in \u001b[0;36m_check_values_indices_shape_match\u001b[0;34m(values, index, columns)\u001b[0m\n\u001b[1;32m    391\u001b[0m         \u001b[0mpassed\u001b[0m \u001b[0;34m=\u001b[0m \u001b[0mvalues\u001b[0m\u001b[0;34m.\u001b[0m\u001b[0mshape\u001b[0m\u001b[0;34m\u001b[0m\u001b[0;34m\u001b[0m\u001b[0m\n\u001b[1;32m    392\u001b[0m         \u001b[0mimplied\u001b[0m \u001b[0;34m=\u001b[0m \u001b[0;34m(\u001b[0m\u001b[0mlen\u001b[0m\u001b[0;34m(\u001b[0m\u001b[0mindex\u001b[0m\u001b[0;34m)\u001b[0m\u001b[0;34m,\u001b[0m \u001b[0mlen\u001b[0m\u001b[0;34m(\u001b[0m\u001b[0mcolumns\u001b[0m\u001b[0;34m)\u001b[0m\u001b[0;34m)\u001b[0m\u001b[0;34m\u001b[0m\u001b[0;34m\u001b[0m\u001b[0m\n\u001b[0;32m--> 393\u001b[0;31m         \u001b[0;32mraise\u001b[0m \u001b[0mValueError\u001b[0m\u001b[0;34m(\u001b[0m\u001b[0;34mf\"Shape of passed values is {passed}, indices imply {implied}\"\u001b[0m\u001b[0;34m)\u001b[0m\u001b[0;34m\u001b[0m\u001b[0;34m\u001b[0m\u001b[0m\n\u001b[0m\u001b[1;32m    394\u001b[0m \u001b[0;34m\u001b[0m\u001b[0m\n\u001b[1;32m    395\u001b[0m \u001b[0;34m\u001b[0m\u001b[0m\n",
      "\u001b[0;31mValueError\u001b[0m: Shape of passed values is (28, 1), indices imply (28, 5)"
     ]
    }
   ],
   "source": [
    "pd.DataFrame(ls.T,columns = ['name','b','c','d','e'])"
   ]
  },
  {
   "cell_type": "code",
   "execution_count": 11,
   "id": "89510c9f",
   "metadata": {},
   "outputs": [
    {
     "data": {
      "text/plain": [
       "array([list(['१) श्री ऋषभनाथ जी ', ' नीलांजना की मृत्यु ', ' 84 लाख पूर्व वर्ष', ' बैल ', ' गोमुख देव/चक्रेश्वरी देवी\\n']),\n",
       "       list(['२) श्री अजितनाथ जी ', ' बिजली चमकने से', ' 72 लाख पूर्व वर्ष', ' हाथी', ' महायक्ष देव/रोहिणी देवी\\n']),\n",
       "       list(['३) श्री सम्भवनाथ जी ', ' मेघ देखने से ', ' 60 लाख पूर्व वर्ष', ' अश्व (घोड़ा)', ' त्रिमुख देव/ प्रज्ञप्तिदेवी\\n']),\n",
       "       list(['४) श्री अभिनन्दन नाथ जी ', ' मेघों का विघटन', ' 50 लाख पूर्व वर्ष', ' बंदर ', ' यक्षेश्वर देव/व्रजश्रृंखला देवी\\n']),\n",
       "       list(['५) श्री सुमतिनाथ जी ', ' जाति स्मरण', ' 40 लाख पूर्व वर्ष ', ' चकवा ', ' तुम्बरू देव/ पुरुषदत्ता देवी\\n']),\n",
       "       list(['६) श्री पदमप्रभु नाथ जी ', ' जाति स्मरण', ' 30 लाख पूर्व वर्ष', ' कमल ', ' कुसुमदेव/ मनोवेगा देवी\\n']),\n",
       "       list(['७) श्री सुपार्श्व नाथ जी ', ' जाति स्मरण', ' 20 लाख पूर्व वर्ष ', ' साथिया (स्वस्तिक) ', ' वरनन्दि देव/काली देवी\\n']),\n",
       "       list(['८) श्री चन्द्रप्रभु नाथ जी ', ' दर्पण ', '10 लाख पूर्व वर्ष ', ' चन्द्रमा ', ' विजय देव/ज्वालामालिनी देवी\\n']),\n",
       "       list(['९) श्री पुष्पदन्त नाथ जी ', ' उल्कापात से ', ' 2 लाख पूर्व वर्ष ', ' मगर', ' अजित देव/महाकाली देवी\\n']),\n",
       "       list(['१०) श्री शीतलनाथ जी ', ' हिमनाश से ', ' 1 लाख पूर्व वर्ष', ' कल्पवृक्ष ', ' ब्रह्मेश्वर देव/मानवी देवी\\n']),\n",
       "       list(['११) श्री श्रेयांसनाथ जी ', ' पतझड़ से ', ' 84 लाख वर्ष ', ' गैंडा ', ' कुमार देव/गौरी देवी\\n']),\n",
       "       list(['१२) श्री वासुपूज्य नाथ जी ', ' जाति स्मरण', ' 72 लाख वर्ष ', ' भैंसा ', ' षणमुखदेव/गांधारी देवी\\n']),\n",
       "       list(['१३) श्री विमलनाथ जी ', ' ओस विघटन', '60 लाख वर्ष ', ' शूकर ', ' पाताल देव/ वैरोटी देवी\\n']),\n",
       "       list(['१४) श्री अनन्तनाथ जी ', ' उल्कापात से', ' 30 लाख वर्ष', ' सेही ', ' किन्नर देव/अनंतमती देवी\\n']),\n",
       "       list(['१५) श्री धर्मनाथ जी ', ' उल्कापात से ', ' 10 लाख वर्ष ', ' वज्रदंड ', ' किंपुरुष देव/मानसी देवी\\n']),\n",
       "       list(['१६) श्री शांतिनाथ जी ', ' जाति स्मरण (दर्पण) ', ' 1 लाख वर्ष', ' मृग (हिरण) ', ' गरुड़ देव/महामानसी देवी\\n']),\n",
       "       list(['१७) श्री कुन्थुनाथ जी ', ' जाति स्मरण', ' 95 हजार वर्ष ', ' बकरा ', ' गंधर्व देव/जया देवी\\n']),\n",
       "       list(['१८) श्री अरहनाथ जी ', ' मेघ फटने से ', ' 84 हजार वर्ष ', ' मछली ', ' महेंद्र देव/विजया देवी\\n']),\n",
       "       list(['१९) श्री मल्लिनाथ जी ', ' ताड़ित', ' 55 हजार वर्ष ', ' कलश ', ' कुबेर देव/अपराजितादेवी\\n']),\n",
       "       list(['२०) श्री मुनिसुव्रतनाथ जी ', ' जाति स्मरण', ' 30 हजार वर्ष', ' कछुआ ', ' वरुण देव /बहुरूपिणी देवी\\n']),\n",
       "       list(['\\n']),\n",
       "       list(['२१) श्री नमिनाथ जी ', ' जाति स्मरण', '10 हजार वर्ष ', ' नीलकमल ', ' विधुत्प्रभ देव/चामुण्डी देवी\\n']),\n",
       "       list(['\\n']),\n",
       "       list(['२२) श्री नेमिनाथ जी ', ' पशुओं का क्रन्दन ', ' 1 हजार वर्ष', ' शंख ', ' सर्वाण्हदेव/कुषमाण्डी देवी\\n']),\n",
       "       list(['\\n']),\n",
       "       list(['२३) श्री पार्श्वनाथ जी ', ' जाति स्मरण', ' 100 वर्ष ', ' सर्प ', ' धरणेन्द्र देव/पद्मावती देवी\\n']),\n",
       "       list(['\\n']),\n",
       "       list(['२४) श्री महावीर स्वामी जी ', ' जाति स्मरण', ' 72 वर्ष ', ' सिंह ', ' मातंग देव/सिद्धायनी देवी\\n'])],\n",
       "      dtype=object)"
      ]
     },
     "execution_count": 11,
     "metadata": {},
     "output_type": "execute_result"
    }
   ],
   "source": [
    "ls.T"
   ]
  },
  {
   "cell_type": "code",
   "execution_count": null,
   "id": "f6de5182",
   "metadata": {},
   "outputs": [],
   "source": []
  }
 ],
 "metadata": {
  "kernelspec": {
   "display_name": "Python 3 (ipykernel)",
   "language": "python",
   "name": "python3"
  },
  "language_info": {
   "codemirror_mode": {
    "name": "ipython",
    "version": 3
   },
   "file_extension": ".py",
   "mimetype": "text/x-python",
   "name": "python",
   "nbconvert_exporter": "python",
   "pygments_lexer": "ipython3",
   "version": "3.8.8"
  }
 },
 "nbformat": 4,
 "nbformat_minor": 5
}
