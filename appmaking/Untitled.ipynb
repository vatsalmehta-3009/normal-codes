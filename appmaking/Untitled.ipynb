{
 "cells": [
  {
   "cell_type": "code",
   "execution_count": 5,
   "id": "df653ebd",
   "metadata": {},
   "outputs": [
    {
     "name": "stderr",
     "output_type": "stream",
     "text": [
      "[\u001b[1;32mINFO\u001b[0m   ] [Logger      ] Record log in /home/lenovo/.kivy/logs/kivy_21-09-20_2.txt\n",
      "[\u001b[1;32mINFO\u001b[0m   ] [Kivy        ] v2.0.0\n",
      "[\u001b[1;32mINFO\u001b[0m   ] [Kivy        ] Installed at \"/home/lenovo/anaconda3/lib/python3.8/site-packages/kivy/__init__.py\"\n",
      "[\u001b[1;32mINFO\u001b[0m   ] [Python      ] v3.8.8 (default, Apr 13 2021, 19:58:26) \n",
      "[GCC 7.3.0]\n",
      "[\u001b[1;32mINFO\u001b[0m   ] [Python      ] Interpreter at \"/home/lenovo/anaconda3/bin/python\"\n",
      "[\u001b[1;32mINFO\u001b[0m   ] [Logger      ] Purge log fired. Analysing...\n",
      "[\u001b[1;32mINFO\u001b[0m   ] [Logger      ] Purge finished!\n"
     ]
    }
   ],
   "source": [
    "import kivy"
   ]
  },
  {
   "cell_type": "code",
   "execution_count": null,
   "id": "858e4ac8",
   "metadata": {},
   "outputs": [],
   "source": [
    "# base Class of your App inherits from the App class.\n",
    "from kivy.app import App\n",
    "# GridLayout arranges children in a matrix.\n",
    "from kivy.uix.gridlayout import GridLayout\n",
    "# Label is used to label something\n",
    "from kivy.uix.label import Label\n",
    "# used to take input from users\n",
    "from kivy.uix.textinput import TextInput\n",
    "\n",
    "\n",
    "\n",
    "class LoginScreen(GridLayout):\n",
    "    def __init__(self, **var_args):\n",
    "\n",
    "    super(LoginScreen, self).__init__(**var_args)\n",
    "\t\t# super function can be used to gain access\n",
    "\t\t# to inherited methods from a parent or sibling class\n",
    "\t\t# that has been overwritten in a class object.\n",
    "\t\tself.cols = 2\t # You can change it accordingly\n",
    "\t\tself.add_widget(Label(text ='User Name'))\n",
    "\t\tself.username = TextInput(multiline = True)\n",
    "\t\t\n",
    "\t\t# multiline is used to take\n",
    "\t\t# multiline input if it is true\n",
    "\t\tself.add_widget(self.username)\n",
    "\t\tself.add_widget(Label(text ='password'))\n",
    "\t\tself.password = TextInput(password = True, multiline = False)\n",
    "\t\t\n",
    "\t\t# password true is used to hide it\n",
    "\t\t# by * self.add_widget(self.password)\n",
    "\t\tself.add_widget(Label(text ='Comfirm password'))\n",
    "\t\tself.password = TextInput(password = True, multiline = False)\n",
    "\t\tself.add_widget(self.password)\n",
    "\n",
    "\n",
    "# the Base Class of our Kivy App\n",
    "class MyApp(App):\n",
    "\tdef build(self):\n",
    "\t\t# return a LoginScreen() as a root widget\n",
    "\t\treturn LoginScreen()\n",
    "\n",
    "\n",
    "if __name__ == '__main__':\n",
    "\tMyApp().run()\n"
   ]
  }
 ],
 "metadata": {
  "kernelspec": {
   "display_name": "Python 3 (ipykernel)",
   "language": "python",
   "name": "python3"
  },
  "language_info": {
   "codemirror_mode": {
    "name": "ipython",
    "version": 3
   },
   "file_extension": ".py",
   "mimetype": "text/x-python",
   "name": "python",
   "nbconvert_exporter": "python",
   "pygments_lexer": "ipython3",
   "version": "3.8.8"
  }
 },
 "nbformat": 4,
 "nbformat_minor": 5
}
